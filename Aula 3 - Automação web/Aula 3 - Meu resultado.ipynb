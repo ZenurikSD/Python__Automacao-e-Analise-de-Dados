{
 "cells": [
  {
   "cell_type": "markdown",
   "metadata": {},
   "source": [
    "# Automação Web e Busca de Informações com Python\n",
    "\n",
    "#### Desafio: \n",
    "\n",
    "Trabalhamos em uma importadora e o preço dos nossos produtos é vinculado a cotação de:\n",
    "- Dólar\n",
    "- Euro\n",
    "- Ouro\n",
    "\n",
    "Precisamos pegar na internet, de forma automática, a cotação desses 3 itens e saber quanto devemos cobrar pelos nossos produtos, considerando uma margem de contribuição que temos na nossa base de dados.\n",
    "\n",
    "Base de Dados: https://drive.google.com/drive/folders/1KmAdo593nD8J9QBaZxPOG1yxHZua4Rtv?usp=sharing\n",
    "\n",
    "Para isso, vamos criar uma automação web:\n",
    "\n",
    "- Usaremos o selenium\n",
    "- Importante: baixar o webdriver"
   ]
  },
  {
   "cell_type": "code",
   "execution_count": 47,
   "metadata": {},
   "outputs": [
    {
     "name": "stdout",
     "output_type": "stream",
     "text": [
      "5.1728\n",
      "5.2900673760000005\n",
      "293.37\n"
     ]
    }
   ],
   "source": [
    "from selenium import webdriver\n",
    "from selenium.webdriver.common.keys import Keys\n",
    "import time\n",
    "\n",
    "#1. Criar a instância de navegação\n",
    "navegador = webdriver.Firefox()\n",
    "navegador.get(\"https://www.google.com/\")\n",
    "\n",
    "#2. Encontrar os elementos com Xpath e guardar o valor\n",
    "    # a- Acessar o site\n",
    "    # a- Digitar a cotação no campo\n",
    "    # b- Pressionar enter\n",
    "    # c- Pegar o atributo com o valor da cotação\n",
    "    # d- Repete\n",
    "    \n",
    "# -----[Dólar]----------------\n",
    "navegador.find_element(\"xpath\", \n",
    "    '/html/body/div[1]/div[3]/form/div[1]/div[1]/div[1]/div/div[2]/input').send_keys(\"cotação dólar\")\n",
    "navegador.find_element(\"xpath\", \n",
    "    '/html/body/div[1]/div[3]/form/div[1]/div[1]/div[1]/div/div[2]/input').send_keys(Keys.ENTER)\n",
    "\n",
    "time.sleep(1)\n",
    "dolar = navegador.find_element('css selector', '.SwHCTb').get_attribute('data-value')\n",
    "print(dolar)\n",
    "\n",
    "# -----[Euro]----------------\n",
    "navegador.get(\"https://www.google.com/\")\n",
    "navegador.find_element(\"xpath\", \n",
    "    '/html/body/div[1]/div[3]/form/div[1]/div[1]/div[1]/div/div[2]/input').send_keys(\"cotação euro\")\n",
    "navegador.find_element(\"xpath\", \n",
    "    '/html/body/div[1]/div[3]/form/div[1]/div[1]/div[1]/div/div[2]/input').send_keys(Keys.ENTER)\n",
    "\n",
    "time.sleep(1)\n",
    "euro = navegador.find_element('css selector', '.SwHCTb').get_attribute('data-value')\n",
    "print(euro)\n",
    "\n",
    "# -----[Ouro]---------------\n",
    "navegador.get(\"https://www.melhorcambio.com/ouro-hoje\")\n",
    "ouro = navegador.find_element('xpath', \n",
    "    '//*[@id=\"comercial\"]').get_attribute('value').replace(',', '.')\n",
    "print(ouro)\n",
    "\n",
    "# Pronto\n",
    "navegador.quit()"
   ]
  },
  {
   "cell_type": "markdown",
   "metadata": {},
   "source": [
    "### Agora vamos atualiza a nossa base de preços com as novas cotações"
   ]
  },
  {
   "cell_type": "markdown",
   "metadata": {},
   "source": [
    "- Importando a base de dados"
   ]
  },
  {
   "cell_type": "code",
   "execution_count": 45,
   "metadata": {
    "scrolled": true
   },
   "outputs": [
    {
     "data": {
      "text/html": [
       "<div>\n",
       "<style scoped>\n",
       "    .dataframe tbody tr th:only-of-type {\n",
       "        vertical-align: middle;\n",
       "    }\n",
       "\n",
       "    .dataframe tbody tr th {\n",
       "        vertical-align: top;\n",
       "    }\n",
       "\n",
       "    .dataframe thead th {\n",
       "        text-align: right;\n",
       "    }\n",
       "</style>\n",
       "<table border=\"1\" class=\"dataframe\">\n",
       "  <thead>\n",
       "    <tr style=\"text-align: right;\">\n",
       "      <th></th>\n",
       "      <th>Produtos</th>\n",
       "      <th>Preço Original</th>\n",
       "      <th>Moeda</th>\n",
       "      <th>Cotação</th>\n",
       "      <th>Preço de Compra</th>\n",
       "      <th>Margem</th>\n",
       "      <th>Preço de Venda</th>\n",
       "    </tr>\n",
       "  </thead>\n",
       "  <tbody>\n",
       "    <tr>\n",
       "      <th>0</th>\n",
       "      <td>Câmera Canon</td>\n",
       "      <td>999.99</td>\n",
       "      <td>Dólar</td>\n",
       "      <td>5.172800</td>\n",
       "      <td>5172.748272</td>\n",
       "      <td>1.40</td>\n",
       "      <td>7241.847581</td>\n",
       "    </tr>\n",
       "    <tr>\n",
       "      <th>1</th>\n",
       "      <td>Carro Renault</td>\n",
       "      <td>4500.00</td>\n",
       "      <td>Euro</td>\n",
       "      <td>5.290067</td>\n",
       "      <td>23805.303192</td>\n",
       "      <td>2.00</td>\n",
       "      <td>47610.606384</td>\n",
       "    </tr>\n",
       "    <tr>\n",
       "      <th>2</th>\n",
       "      <td>Notebook Dell</td>\n",
       "      <td>899.99</td>\n",
       "      <td>Dólar</td>\n",
       "      <td>5.172800</td>\n",
       "      <td>4655.468272</td>\n",
       "      <td>1.70</td>\n",
       "      <td>7914.296062</td>\n",
       "    </tr>\n",
       "    <tr>\n",
       "      <th>3</th>\n",
       "      <td>IPhone</td>\n",
       "      <td>799.00</td>\n",
       "      <td>Dólar</td>\n",
       "      <td>5.172800</td>\n",
       "      <td>4133.067200</td>\n",
       "      <td>1.70</td>\n",
       "      <td>7026.214240</td>\n",
       "    </tr>\n",
       "    <tr>\n",
       "      <th>4</th>\n",
       "      <td>Carro Fiat</td>\n",
       "      <td>3000.00</td>\n",
       "      <td>Euro</td>\n",
       "      <td>5.290067</td>\n",
       "      <td>15870.202128</td>\n",
       "      <td>1.90</td>\n",
       "      <td>30153.384043</td>\n",
       "    </tr>\n",
       "    <tr>\n",
       "      <th>5</th>\n",
       "      <td>Celular Xiaomi</td>\n",
       "      <td>480.48</td>\n",
       "      <td>Dólar</td>\n",
       "      <td>5.172800</td>\n",
       "      <td>2485.426944</td>\n",
       "      <td>2.00</td>\n",
       "      <td>4970.853888</td>\n",
       "    </tr>\n",
       "    <tr>\n",
       "      <th>6</th>\n",
       "      <td>Joia 20g</td>\n",
       "      <td>20.00</td>\n",
       "      <td>Ouro</td>\n",
       "      <td>293.370000</td>\n",
       "      <td>5867.400000</td>\n",
       "      <td>1.15</td>\n",
       "      <td>6747.510000</td>\n",
       "    </tr>\n",
       "  </tbody>\n",
       "</table>\n",
       "</div>"
      ],
      "text/plain": [
       "         Produtos  Preço Original  Moeda     Cotação  Preço de Compra  Margem  \\\n",
       "0    Câmera Canon          999.99  Dólar    5.172800      5172.748272    1.40   \n",
       "1   Carro Renault         4500.00   Euro    5.290067     23805.303192    2.00   \n",
       "2   Notebook Dell          899.99  Dólar    5.172800      4655.468272    1.70   \n",
       "3          IPhone          799.00  Dólar    5.172800      4133.067200    1.70   \n",
       "4      Carro Fiat         3000.00   Euro    5.290067     15870.202128    1.90   \n",
       "5  Celular Xiaomi          480.48  Dólar    5.172800      2485.426944    2.00   \n",
       "6        Joia 20g           20.00   Ouro  293.370000      5867.400000    1.15   \n",
       "\n",
       "   Preço de Venda  \n",
       "0     7241.847581  \n",
       "1    47610.606384  \n",
       "2     7914.296062  \n",
       "3     7026.214240  \n",
       "4    30153.384043  \n",
       "5     4970.853888  \n",
       "6     6747.510000  "
      ]
     },
     "metadata": {},
     "output_type": "display_data"
    }
   ],
   "source": [
    "import pandas as pd\n",
    "\n",
    "#3. Importar a base e atualizar as colunas\n",
    "    #a) Atualizar a cotação para cada moeda\n",
    "    #b) Recalcular as colunas de preço de compra e venda\n",
    "tabela = pd.read_excel(\"Produtos.xlsx\")\n",
    "\n",
    "# Localize as linhas que atendem à condição e substitua o valor da coluna cotação\n",
    "tabela.loc[tabela[\"Moeda\"]=='Dólar', \"Cotação\"] = float(dolar)\n",
    "tabela.loc[tabela[\"Moeda\"]=='Euro', \"Cotação\"] = float(euro)\n",
    "tabela.loc[tabela[\"Moeda\"]=='Ouro', \"Cotação\"] = float(ouro)\n",
    "\n",
    "# Calcule o preço de compra e venda com essa nova cotação\n",
    "    # Compra = Original * Cotação\n",
    "    # Venda  = Compra * Margem\n",
    "tabela[\"Preço de Compra\"] = tabela[\"Preço Original\"] * tabela[\"Cotação\"]\n",
    "tabela[\"Preço de Venda\"]  = tabela[\"Preço de Compra\"] * tabela[\"Margem\"]\n",
    "\n",
    "display(tabela)"
   ]
  },
  {
   "cell_type": "markdown",
   "metadata": {},
   "source": [
    "### Agora vamos exportar a nova base de preços atualizada"
   ]
  },
  {
   "cell_type": "code",
   "execution_count": 46,
   "metadata": {},
   "outputs": [],
   "source": [
    "# 4. Exportar a base\n",
    "tabela.to_excel(\"Produtos-novo.xlsx\", index=False)"
   ]
  }
 ],
 "metadata": {
  "kernelspec": {
   "display_name": "Python 3 (ipykernel)",
   "language": "python",
   "name": "python3"
  },
  "language_info": {
   "codemirror_mode": {
    "name": "ipython",
    "version": 3
   },
   "file_extension": ".py",
   "mimetype": "text/x-python",
   "name": "python",
   "nbconvert_exporter": "python",
   "pygments_lexer": "ipython3",
   "version": "3.10.4"
  }
 },
 "nbformat": 4,
 "nbformat_minor": 4
}
